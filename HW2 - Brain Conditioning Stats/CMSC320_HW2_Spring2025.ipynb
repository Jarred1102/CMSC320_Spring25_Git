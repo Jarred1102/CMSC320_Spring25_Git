{
 "cells": [
  {
   "cell_type": "markdown",
   "metadata": {
    "id": "vKLgKS1btvRB"
   },
   "source": [
    "# **HOMEWORK 2: BRAIN CONDITIONING STATS** 📊\n",
    "## **DUE: *March 04, 2025 @ 11:59 PM***\n",
    "## **24-HR LATE DUE DATE WITH A 15% PENALTY: *March 5, 2025 @ 11:59 PM***\n"
   ]
  },
  {
   "cell_type": "markdown",
   "metadata": {
    "id": "uQmzLo3dt1Hm"
   },
   "source": [
    "**Objective:**  \n",
    "\n",
    "The aim of this assignment is to deepen students' understanding of statistics and hypothesis testing using Python. By engaging with some theortical questions as well as practical exercises, students will apply statistical methods and perform hypothesis tests, using Python to code and execute these techniques. This approach will help solidify their grasp of statistical principles and their application in Python, bridging theoretical knowledge with practical skills.\n",
    "\n",
    "### **Reminder: Please make sure your code runs before submitting your work. Code sections that do not run will receive 0 credits, no partials will be given. This is VERY important in real project development.**\n",
    "### **DO NOT REMOVE ANY PART OF ANY OF THE QUESTIONS OR YOU LOSE CREDIT**\n",
    "### *No Hardcoding either*  😋📉\n"
   ]
  },
  {
   "cell_type": "markdown",
   "metadata": {
    "id": "QhnhliH6Fdga"
   },
   "source": [
    "# **Part 1: Statistics Problem Solving**"
   ]
  },
  {
   "cell_type": "markdown",
   "metadata": {
    "id": "hwJSnRGwG2p7"
   },
   "source": [
    "##Q1) (10 POINTS) Bayes Theorem\n"
   ]
  },
  {
   "cell_type": "markdown",
   "metadata": {
    "id": "sDMy_c7bGSFq"
   },
   "source": [
    "Suppose some hacker found a dataset on uselessdatasets.com containing information about three different types of users on an online platform: \"bloggers\", \"shoppers\", and \"reviewers\". The data has 10,000 users. There are 4,500 bloggers, 6,000 shoppers, and 5,500 reviewers. The users could be in multiple categories. 2,000 of the bloggers are shoppers, 1,800 of the bloggers are reviewers, and 3,000 shoppers are also reviewers.\n",
    "\n",
    "Answer the following questions:"
   ]
  },
  {
   "cell_type": "markdown",
   "metadata": {
    "id": "tpJaCCIWHb-q"
   },
   "source": [
    "1. (3 POINTS) If $X$ is a random variable that represents the users that were cross listed into all 3 categories, what is the value of $X$? (Hint: think of a Venn Diagram.)\n",
    "\n",
    "> Using the inclusion-exclusion principle: 4500 + 6000 + 5500 - 2000 - 1,800 - 3,000 + X = 10,000 -> 9200 + X = 10000 -> X = 800\n",
    "\n",
    "\n",
    "\n"
   ]
  },
  {
   "cell_type": "markdown",
   "metadata": {
    "id": "iSI0rgMFHeqV"
   },
   "source": [
    "2. (3 POINTS) Calculate the probability that a randomly selected shopper is also a reviewer. (Hint: Use Bayes Theorem)\n",
    "\n",
    "> P(R|S) = P(R ∩ S) / P(S)\n",
    ">\n",
    "> P(S) = |S|/10000 = 6000/10000 = 0.6\n",
    ">\n",
    "> P(R ∩ S) = 3000/10000 = 0.3\n",
    ">\n",
    "> P(R ∩ S) / P(S) = 0.3 / 0.6 = 0.5\n",
    ">\n",
    "> Thus, P(R|S) = 0.5\n"
   ]
  },
  {
   "cell_type": "markdown",
   "metadata": {
    "id": "EdwmsNa_Hexi"
   },
   "source": [
    "3. (4 POINTS) Calculate the probability that a random user is in exactly two categories but not all three.\n",
    "\n",
    "> Users in B ∩ S but not in R = |B ∩ S| - |B ∩ S ∩ R| = 2,000 - 800 = 1200. \n",
    ">\n",
    "> Users in B ∩ R but not in S = |B ∩ R| - |B ∩ S ∩ R| = 1,800 - 800 = 1000.\n",
    ">\n",
    "> Users in R ∩ S but not in B = |R ∩ S| - |B ∩ S ∩ R| = 3,000 - 800 = 2200.\n",
    ">\n",
    "> 1200 + 1000 + 2200 = 4400.\n",
    ">\n",
    "> The probability that a random user is in two categories but not all three would be 4400 / 10000 = 0.44 or 44%."
   ]
  },
  {
   "cell_type": "markdown",
   "metadata": {
    "id": "tY38nVLZIL0O"
   },
   "source": [
    "##Q2) (6 POINTS) Expected Values\n"
   ]
  },
  {
   "cell_type": "markdown",
   "metadata": {},
   "source": []
  },
  {
   "cell_type": "markdown",
   "metadata": {},
   "source": []
  },
  {
   "cell_type": "markdown",
   "metadata": {
    "id": "S8XTaX1Lcg1T"
   },
   "source": [
    "Let $T$ be the set of all sequences of two rolls of a dice. Let $S$ be the set of all sequences of three rolls of a dice. Let $X_n$ be the sum of the number of dots on $n$ dice rolls.\n",
    "\n",
    "Answer the following question:\n"
   ]
  },
  {
   "cell_type": "markdown",
   "metadata": {
    "id": "MJGNtK5eck07"
   },
   "source": [
    "1. (3 POINTS) What is $\\mathbb{E}[X_2]$?\n",
    "\n",
    "> $\\mathbb{E}[X_1]$ = 1+2+3+4+5+6 / 6 = 21 / 6 = 3.5\n",
    ">\n",
    "> Since we know that these rolls are independent from each other, $\\mathbb{E}[X_2]$ = $\\mathbb{E}[X_1]$ + $\\mathbb{E}[X_1]$ = 3.5 + 3.5 = 7\n"
   ]
  },
  {
   "cell_type": "markdown",
   "metadata": {
    "id": "P2GzKvNAcuKD"
   },
   "source": [
    "2. (3 POINTS) What is $\\mathbb{E}[X_3]$?\n",
    "\n",
    "> Similar to the previous question, the rolls are independent of each other, therefore,\n",
    ">\n",
    ">$\\mathbb{E}[X_3]$ = $\\mathbb{E}[X_1]$ + $\\mathbb{E}[X_1]$ + $\\mathbb{E}[X_1]$ = 3.5 + 3.5 + 3.5 = 10.5\n",
    "\n"
   ]
  },
  {
   "cell_type": "markdown",
   "metadata": {
    "id": "_lrY31ZOc6cV"
   },
   "source": [
    "##Q3) (6 POINTS) Probability distribution"
   ]
  },
  {
   "cell_type": "markdown",
   "metadata": {
    "id": "5i8SGbTPdAB9"
   },
   "source": [
    "Let  $X$  be a continuous random variable that follows a normal distribution with mean  $\\mu = 10$  and standard deviation  $\\sigma = 2$.\n",
    "\n",
    "Answer the following question:"
   ]
  },
  {
   "cell_type": "markdown",
   "metadata": {
    "id": "iBWOOR8RdMRQ"
   },
   "source": [
    "1. (3 POINTS) What is the probability that $X$ takes a value between 8 and 12?\n",
    "Hints: You may have to utilize the standard normal table: https://math.arizona.edu/~jwatkins/normal-table.pdf\n",
    "\n",
    "\n",
    "\n",
    "\n",
    "> **How to read the \"Standard Normal Cumulative Probability Table\" table:**\n",
    "\n",
    "\n",
    "*   Rows and Columns: The rows correspond to the first digit and first decimal place of z. The columns correspond to the second decimal place of z.\n",
    "*   Check out: https://byjus.com/maths/z-score-table/\n",
    "\n",
    "\n",
    "\n",
    "> For X = 8, we get Z = 8 - 10/ 2 = -1\n",
    ">\n",
    "> For X = 12, we get Z = 12 - 10 / 2 = 1\n",
    "> \n",
    "> From the normal distribution table, P(8 <= x <= 12) = P(Z <= 1) - P(Z <= -1) = 0.8413 - 0.1587 = 0.6826\n",
    "\n",
    "\n",
    "\n",
    "\n"
   ]
  },
  {
   "cell_type": "markdown",
   "metadata": {
    "id": "uk5gSI7Yhbgi"
   },
   "source": [
    "2. (3 POINTS) What is the probability that $X$ takes a value greater than 14?\n",
    "\n",
    "> For X = 14, we get Z = 14 - 10 / 2 = 2\n",
    ">\n",
    "> From the normal distribution table, P(Z > 2) = 1 - P(Z <= 2) = 1 - 0.9772 = 0.0228\n",
    "\n"
   ]
  },
  {
   "cell_type": "markdown",
   "metadata": {
    "id": "qd62j-z1FlKj"
   },
   "source": [
    "# **Part 2: Python Warmups**"
   ]
  },
  {
   "cell_type": "markdown",
   "metadata": {
    "id": "LtrQ-Vrdczic"
   },
   "source": [
    "##Q1) (10 POINTS) Bernoulli Trials\n",
    "\n",
    "Consider a sequence of $n$ Bernoulli trials with success probability $p$ per trial. A string of consecutive successes is known as a *streak*.\n",
    "\n",
    "> **Task to do:** Write a function that returns a `collections.Counter` that maps the length of a streak $k$ to the number of times it is observed in an input sequence `xs`. For example, if `xs = [0, 1, 0, 1, 1, 0, 1, 1, 1, 0, 1, 1, 1, 0, 0, 1]`, the output would be `Counter({1: 2, 2: 1, 3: 2})`. We have imported `Counter` from the Python `collections` library for you in the code block below.\n"
   ]
  },
  {
   "cell_type": "code",
   "execution_count": 123,
   "metadata": {
    "id": "EjCkESEmc9Cz"
   },
   "outputs": [],
   "source": [
    "from collections import Counter\n",
    "\n",
    "def count_streaks(xs):\n",
    "    \"\"\"Count number of success runs of length k.\"\"\"\n",
    "    ys = []\n",
    "    cnt = 0\n",
    "\n",
    "    for i in xs:\n",
    "      if i == 1:\n",
    "        cnt += 1\n",
    "      else:\n",
    "        if cnt > 0:\n",
    "          ys.append(cnt)\n",
    "        cnt = 0\n",
    "\n",
    "    if cnt > 0:\n",
    "      ys.append(cnt)\n",
    "\n",
    "    return Counter(ys)"
   ]
  },
  {
   "cell_type": "code",
   "execution_count": 124,
   "metadata": {
    "id": "J2w_2uB7dQin"
   },
   "outputs": [
    {
     "name": "stdout",
     "output_type": "stream",
     "text": [
      "Counter({1: 2, 3: 2, 2: 1})\n"
     ]
    },
    {
     "data": {
      "text/plain": [
       "Counter({1: 125036,\n",
       "         2: 62589,\n",
       "         3: 31100,\n",
       "         4: 15859,\n",
       "         5: 7699,\n",
       "         6: 3893,\n",
       "         7: 1921,\n",
       "         8: 946,\n",
       "         9: 470,\n",
       "         10: 245,\n",
       "         11: 126,\n",
       "         12: 45,\n",
       "         13: 29,\n",
       "         14: 11,\n",
       "         15: 9,\n",
       "         17: 6,\n",
       "         16: 2,\n",
       "         18: 1})"
      ]
     },
     "execution_count": 124,
     "metadata": {},
     "output_type": "execute_result"
    }
   ],
   "source": [
    "# Use this cell to test your answer. MAKE SURE YOUR RESULTS ARE SHOWN BELOW AFTER RUNNING THIS BOX\n",
    "import numpy as np\n",
    "print(count_streaks([0, 1, 0, 1, 1, 0, 1, 1, 1, 0, 1, 1, 1, 0, 0, 1]))\n",
    "np.random.seed(0)\n",
    "count_streaks(np.random.randint(0,2,1000000))"
   ]
  },
  {
   "cell_type": "markdown",
   "metadata": {
    "id": "soG82SCihwDT"
   },
   "source": [
    "##Q2) (10 POINTS) Distribution and Visualization\n",
    "\n",
    "The goal of solving this problem is to become familiar with using built-in Python libraries to create various distributions. Plotting serves as an initial step toward data visualization."
   ]
  },
  {
   "cell_type": "markdown",
   "metadata": {
    "id": "Yh5maPG3iKSZ"
   },
   "source": [
    "1. (3 POINTS) Create a normally distributed random variable with mean $\\mu = 0$, standard deviation $\\sigma = 5$ and sample size $n=1000$. Plot the histogram. Add labels and titles and other details as desired to make your plot understandable. You must use the packages `numpy` and `matplotlib`."
   ]
  },
  {
   "cell_type": "code",
   "execution_count": 125,
   "metadata": {
    "id": "GGE_YQ2eiJPh"
   },
   "outputs": [
    {
     "data": {
      "image/png": "[encoded data removed]",
      "text/plain": [
       "<Figure size 640x480 with 1 Axes>"
      ]
     },
     "metadata": {},
     "output_type": "display_data"
    }
   ],
   "source": [
    "import numpy as np\n",
    "import matplotlib.pyplot as plot\n",
    "\n",
    "# Parameters\n",
    "mu = 0      # Mean\n",
    "sigma = 5   # Standard deviation\n",
    "size = 1000 # Number of samples\n",
    "\n",
    "# Generate random samples\n",
    "samples = np.random.normal(mu, sigma, size)\n",
    "\n",
    "# Plot the histogram\n",
    "plot.hist(samples, bins=30, edgecolor='black')\n",
    "\n",
    "# Labels and title\n",
    "plot.title('Histogram')\n",
    "plot.xlabel('Value')\n",
    "plot.ylabel('Frequency')\n",
    "\n",
    "# Show plot\n",
    "plot.show()"
   ]
  },
  {
   "cell_type": "markdown",
   "metadata": {
    "id": "9WZvmUTZmx11"
   },
   "source": [
    "2. (7 POINTS) We are exploring the Central Limit Theorem (CLT) using a Poisson distribution. Suppose you have a population that follows a Poisson distribution with a rate parameter (or mean)  $\\lambda = 3$ . You will draw multiple samples from this population and calculate the mean of each sample.\n",
    "\n",
    "Write a Python function that simulates this process. The input of the function should be the sample size, the number of samples, and lambda. The function should:\n",
    "1. Generate a population with a Poisson distribution (check: https://numpy.org/doc/stable/reference/random/generated/numpy.random.poisson.html).\n",
    "2. Draw multiple samples and calculate the mean of each sample.\n",
    "3. Return these means as an iterable.\n",
    "\n",
    "*There will be no partial credit granted for this question. Any hardcoded results will receive a 0.*"
   ]
  },
  {
   "cell_type": "code",
   "execution_count": 126,
   "metadata": {
    "id": "Q7HqSg1AnHy4"
   },
   "outputs": [],
   "source": [
    "import numpy as np\n",
    "\n",
    "def poisson_clt_simulator(sample_size, num_samples, lambda_):\n",
    "    sample_means = []\n",
    "    for _ in range(num_samples):\n",
    "        sample = np.random.poisson(lambda_, sample_size)\n",
    "        sample_means.append(np.mean(sample)) # Think carefully what you are appending here, refer to variable name\n",
    "    return sample_means"
   ]
  },
  {
   "cell_type": "markdown",
   "metadata": {
    "id": "hcIu1vJCqUTj"
   },
   "source": [
    "  Now use the function to generate 1,000 sample means with sample size 50. Plot the distribution of these sample means to visualize the Central Limit Theorem. Add labels and titles and other details as desired to make your plot understandable."
   ]
  },
  {
   "cell_type": "code",
   "execution_count": 127,
   "metadata": {
    "id": "jWy2qFXtrfSm"
   },
   "outputs": [
    {
     "data": {
      "image/png": "[encoded data removed]",
      "text/plain": [
       "<Figure size 640x480 with 1 Axes>"
      ]
     },
     "metadata": {},
     "output_type": "display_data"
    }
   ],
   "source": [
    "import matplotlib.pyplot as plot\n",
    "\n",
    "# Parameters\n",
    "sample_size = 50\n",
    "num_samples = 1000\n",
    "lambda_ = 3\n",
    "\n",
    "# Simulate and get sample means\n",
    "sample_means = poisson_clt_simulator(sample_size, num_samples, lambda_)\n",
    "\n",
    "# Plot the distribution of sample means\n",
    "plot.hist(sample_means)\n",
    "\n",
    "# Add labels and title\n",
    "plot.xlabel('Sample Mean')\n",
    "plot.ylabel('Density')\n",
    "plot.title('Distribution of Sample Means (CLT Visualization for Poisson)')\n",
    "\n",
    "# Show plot\n",
    "plot.show()"
   ]
  },
  {
   "cell_type": "markdown",
   "metadata": {
    "id": "-vIf9sj-rAuk"
   },
   "source": [
    "##Q3) (18 POINTS) More on Distributions\n",
    "\n"
   ]
  },
  {
   "cell_type": "markdown",
   "metadata": {
    "id": "GbpadK721M9L"
   },
   "source": [
    "You can't get around with distributions while data sciencing. Let's explore how distributions are related to each other."
   ]
  },
  {
   "cell_type": "markdown",
   "metadata": {
    "id": "WSNFwHvQ111k"
   },
   "source": [
    "**1. (6 POINTS)** Since we have successfully demonstrated how CLT works, lets see what we can do with it.\n",
    "\n",
    "*Check out https://numpy.org/doc/stable/reference/random/generated/numpy.random.binomial.html for how to create independent binomial distributions*\n"
   ]
  },
  {
   "cell_type": "markdown",
   "metadata": {
    "id": "l41MNSr63cZG"
   },
   "source": [
    "\n",
    "**TASK:** Show that a Binomial$( n, p )$ distribution approximates a Normal distribution when n is LARGE (due to CLT).\n",
    "Complete the following code according to comments."
   ]
  },
  {
   "cell_type": "code",
   "execution_count": 128,
   "metadata": {
    "id": "6e--jGg14BLg"
   },
   "outputs": [
    {
     "data": {
      "image/png": "[encoded data removed]",
      "text/plain": [
       "<Figure size 640x480 with 1 Axes>"
      ]
     },
     "metadata": {},
     "output_type": "display_data"
    }
   ],
   "source": [
    "import numpy as np\n",
    "import matplotlib.pyplot as plot\n",
    "\n",
    "size = 10000\n",
    "n, p = 50, 0.5  # Large n for normal approximation\n",
    "binomial_samples = np.random.binomial(n, p, size)\n",
    "normal_samples = np.random.normal(loc=n*p, scale=np.sqrt(n*p*(1-p)), size=size) # Don't worry about this line unless you are interested\n",
    "\n",
    "plot.hist(binomial_samples, bins=50, density=True, alpha=0.6, label=\"Binomial(50,0.5)\")\n",
    "plot.hist(normal_samples, bins=50, density=True, alpha=0.6, label=\"Normal Approximation\")\n",
    "plot.legend()\n",
    "plot.title(\"Binomial vs. Normal Approximation\")\n",
    "plot.xlabel(\"Value\")\n",
    "plot.ylabel(\"Density\")\n",
    "plot.show()"
   ]
  },
  {
   "cell_type": "markdown",
   "metadata": {
    "id": "ZrcwdGRf5Ug0"
   },
   "source": [
    "**2. (6 POINTS)** Now with Poisson\n",
    "\n",
    "*Check out https://numpy.org/doc/stable/reference/random/generated/numpy.random.poisson.html for how to create independent poisson distributions*"
   ]
  },
  {
   "cell_type": "markdown",
   "metadata": {
    "id": "Dso81KYy5zt9"
   },
   "source": [
    "**TASK:** Show that when n is large and p is small, a Binomial$( n, p )$ distribution approximates a Poisson distribution with  $\\lambda = np$.\n",
    "Complete the following code according to comments."
   ]
  },
  {
   "cell_type": "code",
   "execution_count": 129,
   "metadata": {
    "id": "kA4nORaM6QhT"
   },
   "outputs": [
    {
     "data": {
      "image/png": "[encoded data removed]",
      "text/plain": [
       "<Figure size 640x480 with 1 Axes>"
      ]
     },
     "metadata": {},
     "output_type": "display_data"
    }
   ],
   "source": [
    "size = 10000\n",
    "n, p = 100, 0.05  # np = 5, small p\n",
    "binomial_samples = np.random.binomial(n, p, size)\n",
    "poisson_samples = np.random.poisson(lambda_, size)\n",
    "\n",
    "plot.hist(binomial_samples, bins=20, density=True, alpha=0.6, label=\"Binomial(100, 0.05)\")\n",
    "plot.hist(poisson_samples, bins=20, density=True, alpha=0.6, label=\"Poisson(λ=5)\")\n",
    "plot.legend()\n",
    "plot.title(\"Poisson Approximation to Binomial\")\n",
    "plot.xlabel(\"Value\")\n",
    "plot.ylabel(\"Density\")\n",
    "plot.show()"
   ]
  },
  {
   "cell_type": "markdown",
   "metadata": {
    "id": "J6bGAi_f7oXX"
   },
   "source": [
    "**3. (6 POINTS)** Poisson and Exponential\n"
   ]
  },
  {
   "cell_type": "markdown",
   "metadata": {
    "id": "1i5TaSYL7zDv"
   },
   "source": [
    "We know that Poisson counts the number of arrivals, while Exponential models the time between them.\n",
    "\n",
    "**TASK:** Plot a Poisson distribution and an Exponential distribution. You do not have to describe and justify your findings.\n",
    "\n",
    "*Check out https://numpy.org/doc/stable/reference/random/generated/numpy.random.exponential.html *\n",
    "\n",
    "\n",
    "\n"
   ]
  },
  {
   "cell_type": "markdown",
   "metadata": {
    "id": "H58TflBzD3Sd"
   },
   "source": [
    "> **NOTES: **If you dont know about Exponensial Distribution, check out:\n",
    "\n",
    "\n",
    "*   https://www.probabilitycourse.com/chapter4/4_2_2_exponential.php\n",
    "*   https://www.ncl.ac.uk/webtemplate/ask-assets/external/maths-resources/business/probability/exponential-distribution.html\n",
    "\n",
    "\n",
    "\n",
    "\n",
    "\n"
   ]
  },
  {
   "cell_type": "markdown",
   "metadata": {
    "id": "FRdCRFyJD3nC"
   },
   "source": [
    "Complete the following code according to comments."
   ]
  },
  {
   "cell_type": "code",
   "execution_count": 130,
   "metadata": {
    "id": "CxtOzsiJ8H-b"
   },
   "outputs": [
    {
     "data": {
      "image/png": "[encoded data removed]",
      "text/plain": [
       "<Figure size 640x480 with 1 Axes>"
      ]
     },
     "metadata": {},
     "output_type": "display_data"
    }
   ],
   "source": [
    "size = 10000\n",
    "lambda_exp = 3  # rate for Poisson\n",
    "\n",
    "poisson_time_intervals = np.random.poisson(lambda_exp, size) # The variable name might be tricky, but think carefully exactly what Poisson represents\n",
    "exponential_samples = np.random.exponential(1/lambda_exp, size) # What is the scale of exponential, and how is it related to lambda?\n",
    "\n",
    "plot.hist(exponential_samples, bins=50, density=True, alpha=0.6, label=\"Exponential\")\n",
    "plot.legend()\n",
    "plot.title(\"Exponential Distribution as Interarrival Times\")\n",
    "plot.xlabel(\"Value\")\n",
    "plot.ylabel(\"Density\")\n",
    "plot.show()"
   ]
  },
  {
   "cell_type": "markdown",
   "metadata": {
    "id": "E8O0YGnV4Cbp"
   },
   "source": [
    "# **Part 3: Hypothesis Testing**"
   ]
  },
  {
   "cell_type": "markdown",
   "metadata": {
    "id": "lr1gnMPH4K95"
   },
   "source": [
    "##Q1) (14 POINTS) Hypothesis Tests and P_value"
   ]
  },
  {
   "cell_type": "markdown",
   "metadata": {
    "id": "fp9tnOacNuMX"
   },
   "source": [
    "**TASK:** For the next 5 problems, please describe when you would use each hypothesis test:"
   ]
  },
  {
   "cell_type": "markdown",
   "metadata": {
    "id": "gMYJ8tll4cTM"
   },
   "source": [
    "\n",
    "\n",
    "*   Chi-Squared Test\n",
    "*   Z test\n",
    "*   T test\n",
    "*   Mann-Whitney U Test\n",
    "*   Anova\n",
    "\n",
    "\n"
   ]
  },
  {
   "cell_type": "markdown",
   "metadata": {
    "id": "Pkn-uG4cETC9"
   },
   "source": [
    "1.1  (2 POINTS) Chi-Squared Test\n",
    "\n",
    "> You would use the Chi-Squared Test when you want to estimate the chances two sets of categorical data come from the same distribution.\n"
   ]
  },
  {
   "cell_type": "markdown",
   "metadata": {
    "id": "Lxfrp1xuEYzi"
   },
   "source": [
    "1.2  (2 POINTS) Z-Test\n",
    "\n",
    "\n",
    "> The Z-test compares a sample mean to a population mean. It is used when you have a large sample size (typically n > 30) and you know the population standard deviation (σ) or can make a reasonable assumption about it. The test assumes that the sample data is normally distributed or that the sample size is large enough for the Central Limit Theorem to apply.\n"
   ]
  },
  {
   "cell_type": "markdown",
   "metadata": {
    "id": "NbsWX4fxEZBg"
   },
   "source": [
    "1.3  (2 POINTS) T-Test\n",
    "\n",
    "\n",
    "> T-test is a statistical test used to determine if there is a significant difference between the means of two groups. Contrary to the Z-Test, it is used when you have a smaller sample size (typically n < 30) or when you don't know the population standard deviation (σ) and must estimate it from the sample."
   ]
  },
  {
   "cell_type": "markdown",
   "metadata": {
    "id": "YegV9lSFEZO6"
   },
   "source": [
    "1.4  (2 POINTS) Man-Whitney U Test\n",
    "\n",
    "\n",
    "> The Man-Whitney U Test is a nonparametric test used to compare two independent groups and when the data does not meet the assumptions of normality required for a t-test.\n"
   ]
  },
  {
   "cell_type": "markdown",
   "metadata": {
    "id": "mpPZpmtMEZfS"
   },
   "source": [
    "1.5  (2 POINTS) ANOVA Test\n",
    "\n",
    "\n",
    "> The ANOVA Test is a powerful statistical test for comparing the means of multiple groups (three or more groups (more than two)) to determine if there are significant differences among them.\n",
    "\n"
   ]
  },
  {
   "cell_type": "markdown",
   "metadata": {
    "id": "jdYe6uWWKPtd"
   },
   "source": [
    "**1.6 (4 POINTS) :** Explain the statistical interpretation of a p-value. What is a p-value? What does it mean? Be sure to explain beyond just \"rejecting or failing to reject the null hypothesis.\"\n"
   ]
  },
  {
   "cell_type": "markdown",
   "metadata": {
    "id": "9zhdjJyjK1D7"
   },
   "source": [
    "> A p-value is the probability that we would see the observations defined in a \"null hypothesis\" or \"alternative hypothesis\" if the null hypothesis is true/correct. The p-value's significance doesn't define the importance of an effect, but how unlikely the data would be if the null hypothesis were true. For example, if the p-value was 0.05 or less, this would be interpreted as the possiblility of a failed null hypothesis, however, in reality it is simply strong evidence against the null hypothesis."
   ]
  },
  {
   "cell_type": "markdown",
   "metadata": {
    "id": "va2vA-in5dWy"
   },
   "source": [
    "##Q2)  (2 POINTS) Create a DataFrame and Display"
   ]
  },
  {
   "cell_type": "code",
   "execution_count": 131,
   "metadata": {
    "id": "Ijr5bfGL5_l1"
   },
   "outputs": [],
   "source": [
    "import pandas as pd\n",
    "import matplotlib.pyplot as plt"
   ]
  },
  {
   "cell_type": "markdown",
   "metadata": {
    "id": "vqbjlGP6xFnm"
   },
   "source": [
    "### We are creating a DataFrame `df`. Load `colleges.csv` and display the DataFrame below.\n",
    "This college dataset contains a list of American colleges and their rankings, along with other details such as region, college type, student-to-faculty ratio, etc. In the sections below, you will develop hypotheses, test them, and draw conclusions.  "
   ]
  },
  {
   "cell_type": "code",
   "execution_count": 132,
   "metadata": {
    "id": "gYOPX768xFnm"
   },
   "outputs": [
    {
     "name": "stdout",
     "output_type": "stream",
     "text": [
      "                                         description  rank  \\\n",
      "0  A leading global research university, MIT attr...     1   \n",
      "1  Stanford University sits just outside of Palo ...     2   \n",
      "2  One of the top public universities in the coun...     2   \n",
      "3  Princeton is a leading private research univer...     4   \n",
      "4  Located in upper Manhattan, Columbia Universit...     5   \n",
      "\n",
      "                        organizationName state  studentPopulation  \\\n",
      "0  Massachusetts Institute of Technology    MA              12195   \n",
      "1                    Stanford University    CA              20961   \n",
      "2     University of California, Berkeley    CA              45878   \n",
      "3                   Princeton University    NJ               8532   \n",
      "4                    Columbia University    NY              33882   \n",
      "\n",
      "  campusSetting  medianBaseSalary   longitude   latitude  \\\n",
      "0         Urban          173700.0  -71.093539  42.359006   \n",
      "1      Suburban          173500.0 -122.168924  37.431370   \n",
      "2         Urban          154500.0 -122.258393  37.869236   \n",
      "3         Urban          167600.0  -74.659119  40.349855   \n",
      "4         Urban          148800.0  -73.961288  40.806515   \n",
      "\n",
      "                    website  ... yearFounded stateCode  \\\n",
      "0        http://web.mit.edu  ...      1861.0        MA   \n",
      "1   http://www.stanford.edu  ...      1891.0        CA   \n",
      "2   http://www.berkeley.edu  ...      1868.0        CA   \n",
      "3  http://www.princeton.edu  ...      1746.0        NJ   \n",
      "4   http://www.columbia.edu  ...      1754.0        NY   \n",
      "\n",
      "              collegeType                             carnegieClassification  \\\n",
      "0  Private not-for-profit  Doctoral Universities: Very High Research Acti...   \n",
      "1  Private not-for-profit  Doctoral Universities: Very High Research Acti...   \n",
      "2                  Public  Doctoral Universities: Very High Research Acti...   \n",
      "3  Private not-for-profit  Doctoral Universities: Very High Research Acti...   \n",
      "4  Private not-for-profit  Doctoral Universities: Very High Research Acti...   \n",
      "\n",
      "  studentFacultyRatio  totalStudentPop undergradPop totalGrantAid  \\\n",
      "0                   3            12195         4582    35299332.0   \n",
      "1                   4            20961         8464    51328461.0   \n",
      "2                  19            45878        33208    64495611.0   \n",
      "3                   4             8532         5516    44871096.0   \n",
      "4                   6            33882         8689    44615007.0   \n",
      "\n",
      "  percentOfStudentsFinAid  percentOfStudentsGrant  \n",
      "0                    75.0                    60.0  \n",
      "1                    70.0                    55.0  \n",
      "2                    63.0                    53.0  \n",
      "3                    62.0                    61.0  \n",
      "4                    58.0                    54.0  \n",
      "\n",
      "[5 rows x 25 columns]\n"
     ]
    }
   ],
   "source": [
    "df = pd.read_csv('colleges.csv')\n",
    "print(df.head())"
   ]
  },
  {
   "cell_type": "markdown",
   "metadata": {
    "id": "sc36rSvHxFnn"
   },
   "source": [
    "**TASK 2.1 (2 POINTS):** Some entries of the dataframe are NaN. remove those entries."
   ]
  },
  {
   "cell_type": "code",
   "execution_count": 133,
   "metadata": {
    "id": "uGDjmtvMxFnn"
   },
   "outputs": [
    {
     "data": {
      "text/html": [
       "<div>\n",
       "<style scoped>\n",
       "    .dataframe tbody tr th:only-of-type {\n",
       "        vertical-align: middle;\n",
       "    }\n",
       "\n",
       "    .dataframe tbody tr th {\n",
       "        vertical-align: top;\n",
       "    }\n",
       "\n",
       "    .dataframe thead th {\n",
       "        text-align: right;\n",
       "    }\n",
       "</style>\n",
       "<table border=\"1\" class=\"dataframe\">\n",
       "  <thead>\n",
       "    <tr style=\"text-align: right;\">\n",
       "      <th></th>\n",
       "      <th>description</th>\n",
       "      <th>rank</th>\n",
       "      <th>organizationName</th>\n",
       "      <th>state</th>\n",
       "      <th>studentPopulation</th>\n",
       "      <th>campusSetting</th>\n",
       "      <th>medianBaseSalary</th>\n",
       "      <th>longitude</th>\n",
       "      <th>latitude</th>\n",
       "      <th>website</th>\n",
       "      <th>...</th>\n",
       "      <th>yearFounded</th>\n",
       "      <th>stateCode</th>\n",
       "      <th>collegeType</th>\n",
       "      <th>carnegieClassification</th>\n",
       "      <th>studentFacultyRatio</th>\n",
       "      <th>totalStudentPop</th>\n",
       "      <th>undergradPop</th>\n",
       "      <th>totalGrantAid</th>\n",
       "      <th>percentOfStudentsFinAid</th>\n",
       "      <th>percentOfStudentsGrant</th>\n",
       "    </tr>\n",
       "  </thead>\n",
       "  <tbody>\n",
       "    <tr>\n",
       "      <th>0</th>\n",
       "      <td>A leading global research university, MIT attr...</td>\n",
       "      <td>1</td>\n",
       "      <td>Massachusetts Institute of Technology</td>\n",
       "      <td>MA</td>\n",
       "      <td>12195</td>\n",
       "      <td>Urban</td>\n",
       "      <td>173700.0</td>\n",
       "      <td>-71.093539</td>\n",
       "      <td>42.359006</td>\n",
       "      <td>http://web.mit.edu</td>\n",
       "      <td>...</td>\n",
       "      <td>1861.0</td>\n",
       "      <td>MA</td>\n",
       "      <td>Private not-for-profit</td>\n",
       "      <td>Doctoral Universities: Very High Research Acti...</td>\n",
       "      <td>3</td>\n",
       "      <td>12195</td>\n",
       "      <td>4582</td>\n",
       "      <td>35299332.0</td>\n",
       "      <td>75.0</td>\n",
       "      <td>60.0</td>\n",
       "    </tr>\n",
       "    <tr>\n",
       "      <th>1</th>\n",
       "      <td>Stanford University sits just outside of Palo ...</td>\n",
       "      <td>2</td>\n",
       "      <td>Stanford University</td>\n",
       "      <td>CA</td>\n",
       "      <td>20961</td>\n",
       "      <td>Suburban</td>\n",
       "      <td>173500.0</td>\n",
       "      <td>-122.168924</td>\n",
       "      <td>37.431370</td>\n",
       "      <td>http://www.stanford.edu</td>\n",
       "      <td>...</td>\n",
       "      <td>1891.0</td>\n",
       "      <td>CA</td>\n",
       "      <td>Private not-for-profit</td>\n",
       "      <td>Doctoral Universities: Very High Research Acti...</td>\n",
       "      <td>4</td>\n",
       "      <td>20961</td>\n",
       "      <td>8464</td>\n",
       "      <td>51328461.0</td>\n",
       "      <td>70.0</td>\n",
       "      <td>55.0</td>\n",
       "    </tr>\n",
       "    <tr>\n",
       "      <th>2</th>\n",
       "      <td>One of the top public universities in the coun...</td>\n",
       "      <td>2</td>\n",
       "      <td>University of California, Berkeley</td>\n",
       "      <td>CA</td>\n",
       "      <td>45878</td>\n",
       "      <td>Urban</td>\n",
       "      <td>154500.0</td>\n",
       "      <td>-122.258393</td>\n",
       "      <td>37.869236</td>\n",
       "      <td>http://www.berkeley.edu</td>\n",
       "      <td>...</td>\n",
       "      <td>1868.0</td>\n",
       "      <td>CA</td>\n",
       "      <td>Public</td>\n",
       "      <td>Doctoral Universities: Very High Research Acti...</td>\n",
       "      <td>19</td>\n",
       "      <td>45878</td>\n",
       "      <td>33208</td>\n",
       "      <td>64495611.0</td>\n",
       "      <td>63.0</td>\n",
       "      <td>53.0</td>\n",
       "    </tr>\n",
       "    <tr>\n",
       "      <th>3</th>\n",
       "      <td>Princeton is a leading private research univer...</td>\n",
       "      <td>4</td>\n",
       "      <td>Princeton University</td>\n",
       "      <td>NJ</td>\n",
       "      <td>8532</td>\n",
       "      <td>Urban</td>\n",
       "      <td>167600.0</td>\n",
       "      <td>-74.659119</td>\n",
       "      <td>40.349855</td>\n",
       "      <td>http://www.princeton.edu</td>\n",
       "      <td>...</td>\n",
       "      <td>1746.0</td>\n",
       "      <td>NJ</td>\n",
       "      <td>Private not-for-profit</td>\n",
       "      <td>Doctoral Universities: Very High Research Acti...</td>\n",
       "      <td>4</td>\n",
       "      <td>8532</td>\n",
       "      <td>5516</td>\n",
       "      <td>44871096.0</td>\n",
       "      <td>62.0</td>\n",
       "      <td>61.0</td>\n",
       "    </tr>\n",
       "    <tr>\n",
       "      <th>4</th>\n",
       "      <td>Located in upper Manhattan, Columbia Universit...</td>\n",
       "      <td>5</td>\n",
       "      <td>Columbia University</td>\n",
       "      <td>NY</td>\n",
       "      <td>33882</td>\n",
       "      <td>Urban</td>\n",
       "      <td>148800.0</td>\n",
       "      <td>-73.961288</td>\n",
       "      <td>40.806515</td>\n",
       "      <td>http://www.columbia.edu</td>\n",
       "      <td>...</td>\n",
       "      <td>1754.0</td>\n",
       "      <td>NY</td>\n",
       "      <td>Private not-for-profit</td>\n",
       "      <td>Doctoral Universities: Very High Research Acti...</td>\n",
       "      <td>6</td>\n",
       "      <td>33882</td>\n",
       "      <td>8689</td>\n",
       "      <td>44615007.0</td>\n",
       "      <td>58.0</td>\n",
       "      <td>54.0</td>\n",
       "    </tr>\n",
       "    <tr>\n",
       "      <th>...</th>\n",
       "      <td>...</td>\n",
       "      <td>...</td>\n",
       "      <td>...</td>\n",
       "      <td>...</td>\n",
       "      <td>...</td>\n",
       "      <td>...</td>\n",
       "      <td>...</td>\n",
       "      <td>...</td>\n",
       "      <td>...</td>\n",
       "      <td>...</td>\n",
       "      <td>...</td>\n",
       "      <td>...</td>\n",
       "      <td>...</td>\n",
       "      <td>...</td>\n",
       "      <td>...</td>\n",
       "      <td>...</td>\n",
       "      <td>...</td>\n",
       "      <td>...</td>\n",
       "      <td>...</td>\n",
       "      <td>...</td>\n",
       "      <td>...</td>\n",
       "    </tr>\n",
       "    <tr>\n",
       "      <th>490</th>\n",
       "      <td>Loyola University New Orleans provides student...</td>\n",
       "      <td>491</td>\n",
       "      <td>Loyola University New Orleans</td>\n",
       "      <td>LA</td>\n",
       "      <td>4972</td>\n",
       "      <td>Urban</td>\n",
       "      <td>102300.0</td>\n",
       "      <td>-90.077714</td>\n",
       "      <td>29.953690</td>\n",
       "      <td>http://www.loyno.edu</td>\n",
       "      <td>...</td>\n",
       "      <td>1904.0</td>\n",
       "      <td>LA</td>\n",
       "      <td>Private not-for-profit</td>\n",
       "      <td>Doctoral/Professional Universities</td>\n",
       "      <td>13</td>\n",
       "      <td>4972</td>\n",
       "      <td>3538</td>\n",
       "      <td>26114959.0</td>\n",
       "      <td>99.0</td>\n",
       "      <td>99.0</td>\n",
       "    </tr>\n",
       "    <tr>\n",
       "      <th>491</th>\n",
       "      <td>Xavier University is a Jesuit Catholic school ...</td>\n",
       "      <td>492</td>\n",
       "      <td>Xavier University</td>\n",
       "      <td>OH</td>\n",
       "      <td>8079</td>\n",
       "      <td>Urban</td>\n",
       "      <td>104900.0</td>\n",
       "      <td>-84.476379</td>\n",
       "      <td>39.149037</td>\n",
       "      <td>http://www.xavier.edu</td>\n",
       "      <td>...</td>\n",
       "      <td>1831.0</td>\n",
       "      <td>OH</td>\n",
       "      <td>Private not-for-profit</td>\n",
       "      <td>Master's Colleges &amp; Universities: Larger Programs</td>\n",
       "      <td>11</td>\n",
       "      <td>8079</td>\n",
       "      <td>5473</td>\n",
       "      <td>28294277.0</td>\n",
       "      <td>100.0</td>\n",
       "      <td>100.0</td>\n",
       "    </tr>\n",
       "    <tr>\n",
       "      <th>493</th>\n",
       "      <td>St. Joseph’s College is a private institution ...</td>\n",
       "      <td>494</td>\n",
       "      <td>St. Joseph's College (NY)</td>\n",
       "      <td>NY</td>\n",
       "      <td>5901</td>\n",
       "      <td>Urban</td>\n",
       "      <td>100900.0</td>\n",
       "      <td>-73.968304</td>\n",
       "      <td>40.690548</td>\n",
       "      <td>http://www.sjcny.edu</td>\n",
       "      <td>...</td>\n",
       "      <td>1916.0</td>\n",
       "      <td>NY</td>\n",
       "      <td>Private not-for-profit</td>\n",
       "      <td>Master's Colleges &amp; Universities: Medium Programs</td>\n",
       "      <td>12</td>\n",
       "      <td>5901</td>\n",
       "      <td>4429</td>\n",
       "      <td>11919881.0</td>\n",
       "      <td>99.0</td>\n",
       "      <td>99.0</td>\n",
       "    </tr>\n",
       "    <tr>\n",
       "      <th>494</th>\n",
       "      <td>A liberal arts college founded by the Moravian...</td>\n",
       "      <td>495</td>\n",
       "      <td>Moravian University</td>\n",
       "      <td>PA</td>\n",
       "      <td>2961</td>\n",
       "      <td>Urban</td>\n",
       "      <td>109800.0</td>\n",
       "      <td>-75.381596</td>\n",
       "      <td>40.630303</td>\n",
       "      <td>http://www.moravian.edu</td>\n",
       "      <td>...</td>\n",
       "      <td>1742.0</td>\n",
       "      <td>PA</td>\n",
       "      <td>Private not-for-profit</td>\n",
       "      <td>Baccalaureate Colleges: Arts &amp; Sciences Focus</td>\n",
       "      <td>11</td>\n",
       "      <td>2961</td>\n",
       "      <td>2268</td>\n",
       "      <td>12685943.0</td>\n",
       "      <td>100.0</td>\n",
       "      <td>100.0</td>\n",
       "    </tr>\n",
       "    <tr>\n",
       "      <th>497</th>\n",
       "      <td>The University of Memphis is a large public re...</td>\n",
       "      <td>498</td>\n",
       "      <td>University of Memphis</td>\n",
       "      <td>TN</td>\n",
       "      <td>25128</td>\n",
       "      <td>Urban</td>\n",
       "      <td>90700.0</td>\n",
       "      <td>-89.939618</td>\n",
       "      <td>35.118453</td>\n",
       "      <td>http://www.mephis.edu</td>\n",
       "      <td>...</td>\n",
       "      <td>1912.0</td>\n",
       "      <td>TN</td>\n",
       "      <td>Public</td>\n",
       "      <td>Doctoral Universities: High Research Activity</td>\n",
       "      <td>16</td>\n",
       "      <td>25128</td>\n",
       "      <td>20011</td>\n",
       "      <td>27575189.0</td>\n",
       "      <td>98.0</td>\n",
       "      <td>97.0</td>\n",
       "    </tr>\n",
       "  </tbody>\n",
       "</table>\n",
       "<p>422 rows × 25 columns</p>\n",
       "</div>"
      ],
      "text/plain": [
       "                                           description  rank  \\\n",
       "0    A leading global research university, MIT attr...     1   \n",
       "1    Stanford University sits just outside of Palo ...     2   \n",
       "2    One of the top public universities in the coun...     2   \n",
       "3    Princeton is a leading private research univer...     4   \n",
       "4    Located in upper Manhattan, Columbia Universit...     5   \n",
       "..                                                 ...   ...   \n",
       "490  Loyola University New Orleans provides student...   491   \n",
       "491  Xavier University is a Jesuit Catholic school ...   492   \n",
       "493  St. Joseph’s College is a private institution ...   494   \n",
       "494  A liberal arts college founded by the Moravian...   495   \n",
       "497  The University of Memphis is a large public re...   498   \n",
       "\n",
       "                          organizationName state  studentPopulation  \\\n",
       "0    Massachusetts Institute of Technology    MA              12195   \n",
       "1                      Stanford University    CA              20961   \n",
       "2       University of California, Berkeley    CA              45878   \n",
       "3                     Princeton University    NJ               8532   \n",
       "4                      Columbia University    NY              33882   \n",
       "..                                     ...   ...                ...   \n",
       "490          Loyola University New Orleans    LA               4972   \n",
       "491                      Xavier University    OH               8079   \n",
       "493              St. Joseph's College (NY)    NY               5901   \n",
       "494                    Moravian University    PA               2961   \n",
       "497                  University of Memphis    TN              25128   \n",
       "\n",
       "    campusSetting  medianBaseSalary   longitude   latitude  \\\n",
       "0           Urban          173700.0  -71.093539  42.359006   \n",
       "1        Suburban          173500.0 -122.168924  37.431370   \n",
       "2           Urban          154500.0 -122.258393  37.869236   \n",
       "3           Urban          167600.0  -74.659119  40.349855   \n",
       "4           Urban          148800.0  -73.961288  40.806515   \n",
       "..            ...               ...         ...        ...   \n",
       "490         Urban          102300.0  -90.077714  29.953690   \n",
       "491         Urban          104900.0  -84.476379  39.149037   \n",
       "493         Urban          100900.0  -73.968304  40.690548   \n",
       "494         Urban          109800.0  -75.381596  40.630303   \n",
       "497         Urban           90700.0  -89.939618  35.118453   \n",
       "\n",
       "                      website  ... yearFounded stateCode  \\\n",
       "0          http://web.mit.edu  ...      1861.0        MA   \n",
       "1     http://www.stanford.edu  ...      1891.0        CA   \n",
       "2     http://www.berkeley.edu  ...      1868.0        CA   \n",
       "3    http://www.princeton.edu  ...      1746.0        NJ   \n",
       "4     http://www.columbia.edu  ...      1754.0        NY   \n",
       "..                        ...  ...         ...       ...   \n",
       "490      http://www.loyno.edu  ...      1904.0        LA   \n",
       "491     http://www.xavier.edu  ...      1831.0        OH   \n",
       "493      http://www.sjcny.edu  ...      1916.0        NY   \n",
       "494   http://www.moravian.edu  ...      1742.0        PA   \n",
       "497     http://www.mephis.edu  ...      1912.0        TN   \n",
       "\n",
       "                collegeType  \\\n",
       "0    Private not-for-profit   \n",
       "1    Private not-for-profit   \n",
       "2                    Public   \n",
       "3    Private not-for-profit   \n",
       "4    Private not-for-profit   \n",
       "..                      ...   \n",
       "490  Private not-for-profit   \n",
       "491  Private not-for-profit   \n",
       "493  Private not-for-profit   \n",
       "494  Private not-for-profit   \n",
       "497                  Public   \n",
       "\n",
       "                                carnegieClassification studentFacultyRatio  \\\n",
       "0    Doctoral Universities: Very High Research Acti...                   3   \n",
       "1    Doctoral Universities: Very High Research Acti...                   4   \n",
       "2    Doctoral Universities: Very High Research Acti...                  19   \n",
       "3    Doctoral Universities: Very High Research Acti...                   4   \n",
       "4    Doctoral Universities: Very High Research Acti...                   6   \n",
       "..                                                 ...                 ...   \n",
       "490                 Doctoral/Professional Universities                  13   \n",
       "491  Master's Colleges & Universities: Larger Programs                  11   \n",
       "493  Master's Colleges & Universities: Medium Programs                  12   \n",
       "494      Baccalaureate Colleges: Arts & Sciences Focus                  11   \n",
       "497      Doctoral Universities: High Research Activity                  16   \n",
       "\n",
       "     totalStudentPop undergradPop totalGrantAid percentOfStudentsFinAid  \\\n",
       "0              12195         4582    35299332.0                    75.0   \n",
       "1              20961         8464    51328461.0                    70.0   \n",
       "2              45878        33208    64495611.0                    63.0   \n",
       "3               8532         5516    44871096.0                    62.0   \n",
       "4              33882         8689    44615007.0                    58.0   \n",
       "..               ...          ...           ...                     ...   \n",
       "490             4972         3538    26114959.0                    99.0   \n",
       "491             8079         5473    28294277.0                   100.0   \n",
       "493             5901         4429    11919881.0                    99.0   \n",
       "494             2961         2268    12685943.0                   100.0   \n",
       "497            25128        20011    27575189.0                    98.0   \n",
       "\n",
       "     percentOfStudentsGrant  \n",
       "0                      60.0  \n",
       "1                      55.0  \n",
       "2                      53.0  \n",
       "3                      61.0  \n",
       "4                      54.0  \n",
       "..                      ...  \n",
       "490                    99.0  \n",
       "491                   100.0  \n",
       "493                    99.0  \n",
       "494                   100.0  \n",
       "497                    97.0  \n",
       "\n",
       "[422 rows x 25 columns]"
      ]
     },
     "execution_count": 133,
     "metadata": {},
     "output_type": "execute_result"
    }
   ],
   "source": [
    "df.dropna()"
   ]
  },
  {
   "cell_type": "markdown",
   "metadata": {
    "id": "gcqr3fjkxFnn"
   },
   "source": [
    "#Q3)  (8 POINTS) Hypothesis Testing"
   ]
  },
  {
   "cell_type": "markdown",
   "metadata": {
    "id": "vJseQzaaxFnn"
   },
   "source": [
    "Try to find relationships in this dataset through hypothesis testing. For each hypothesis test:\n",
    "\n",
    "- First chose a null hypothesis, or a statement that there is no effect between different variables, that serves as a default assumption.\n",
    "\n",
    "- Then chose an alternative hypothesis, or a statement that suggests that there is a correlation between different variables.\n",
    "\n",
    "For the questions below, assume $\\alpha = 0.05$."
   ]
  },
  {
   "cell_type": "markdown",
   "metadata": {
    "id": "TJlwAeQCxFnn"
   },
   "source": [
    "## First Hypothesis"
   ]
  },
  {
   "cell_type": "markdown",
   "metadata": {
    "id": "KTzMNuzOxFnn"
   },
   "source": [
    "- HO: The region of the college does not have an effect on the likelihood of the college type.\n",
    "\n",
    "- HA: The region of the college does have an effect on the likelihood of the college type."
   ]
  },
  {
   "cell_type": "markdown",
   "metadata": {
    "id": "sAJ5Ys87xFnn"
   },
   "source": [
    "Our plan is to apply a chi-squared test. You may find it helpful to consult the `scipy.stats` library's documentation:\n",
    "https://docs.scipy.org/doc/scipy/reference/stats.html"
   ]
  },
  {
   "cell_type": "markdown",
   "metadata": {
    "id": "ejZSrDUVxFnn"
   },
   "source": [
    "Contingency table is a table used in statistics to display the frequency distribution of variables. It will help us perform a chi-squared test on our data. You can find more information on contingency table here - https://en.wikipedia.org/wiki/Contingency_table"
   ]
  },
  {
   "cell_type": "markdown",
   "metadata": {
    "id": "XdZi1x-UxFnn"
   },
   "source": [
    "**TASK 3.1 (2 POINTS)**: Create a contingency table and display it."
   ]
  },
  {
   "cell_type": "code",
   "execution_count": 134,
   "metadata": {
    "id": "Mge-6Jh2xFnn"
   },
   "outputs": [
    {
     "name": "stdout",
     "output_type": "stream",
     "text": [
      "collegeType  Private not-for-profit  Public\n",
      "region                                     \n",
      "Midwest                          58      41\n",
      "Northeast                       126      55\n",
      "South                            41      63\n",
      "West                             44      61\n"
     ]
    }
   ],
   "source": [
    "contingency_table = pd.crosstab(df['region'], df['collegeType'])\n",
    "print(contingency_table)"
   ]
  },
  {
   "cell_type": "markdown",
   "metadata": {
    "id": "-299BtA5xFno"
   },
   "source": [
    "**TASK 3.2 (2 POINTS)**: Why would we consider using a chi-squared test specifically (as opposed to some other hypothesis test)?"
   ]
  },
  {
   "cell_type": "markdown",
   "metadata": {
    "id": "z6BLDJ7kxFno"
   },
   "source": [
    "> We want to consider using a chi-squared test specifically as opposed to some other test because chi-squared tests estimate the chances two sets of categorical data come from the same distribution., which is exactly what we are doing - we want to see if the region affects the college type (which are both categorical data), which is the same as testing if they're from the same distribution."
   ]
  },
  {
   "cell_type": "markdown",
   "metadata": {
    "id": "C_4Y0c3rxFno"
   },
   "source": [
    "**TASK 3.3 (2 POINTS)**: Create a plot showing the relationship between the regions and the no. of private colleges in it."
   ]
  },
  {
   "cell_type": "code",
   "execution_count": 135,
   "metadata": {
    "id": "X9I0g6Q7xFnq"
   },
   "outputs": [
    {
     "data": {
      "image/png": "[encoded data removed]",
      "text/plain": [
       "<Figure size 640x480 with 1 Axes>"
      ]
     },
     "metadata": {},
     "output_type": "display_data"
    }
   ],
   "source": [
    "import seaborn as sns\n",
    "import matplotlib.pyplot as plot\n",
    "\n",
    "# Any graph that can be easily identified as the prompt above is suffice\n",
    "sns.countplot(data=df, x='region', hue='collegeType')\n",
    "plot.title('Region vs. College Type')\n",
    "plot.xlabel('Region')\n",
    "plot.ylabel('No. of Private Colleges')\n",
    "plot.show()"
   ]
  },
  {
   "cell_type": "markdown",
   "metadata": {
    "id": "Mlzi9e3jxFnq"
   },
   "source": [
    "**TASK 3.4 (2 POINTS)**: Explain what you can infer from your plot"
   ]
  },
  {
   "cell_type": "markdown",
   "metadata": {
    "id": "6C0XA1bRxFnq"
   },
   "source": [
    "> The northeast has the most private not-for-profit colleges and has almost double its publi colleges, compared to the other regions where the numbers are more closer. The south has the least private not-for-profit colleges, the midwest has the least public colleges, and the south has the most public colleges out of the four regions."
   ]
  },
  {
   "cell_type": "markdown",
   "metadata": {
    "id": "xf8VFmFuxFnq"
   },
   "source": [
    "#Q4) (5 POINTS) Conduct the chi-squared test"
   ]
  },
  {
   "cell_type": "markdown",
   "metadata": {
    "id": "G4L1JOyaxFnq"
   },
   "source": [
    "**TASK: 4.1 (2 POINTS):** Display the p-value of applying the chi-squared test using the `chi2_contingency()` function."
   ]
  },
  {
   "cell_type": "code",
   "execution_count": 136,
   "metadata": {
    "id": "b0o_ZJ93xFnq"
   },
   "outputs": [
    {
     "name": "stdout",
     "output_type": "stream",
     "text": [
      "P-value: 2.4020755468119133e-07\n",
      "Reject the null hypothesis. The region of the college does have an effect on the likelihood of the college type.\n"
     ]
    }
   ],
   "source": [
    "from scipy.stats import chi2_contingency\n",
    "\n",
    "chi2, p, dof, expected = chi2_contingency(contingency_table)\n",
    "\n",
    "print(f'P-value: {p}')\n",
    "\n",
    "# Interpretation\n",
    "alpha = 0.05\n",
    "\n",
    "if p < alpha:\n",
    "    print(\"Reject the null hypothesis. The region of the college does have an effect on the likelihood of the college type.\")\n",
    "else:\n",
    "    print(\"Fail to reject the null hypothesis. The region of the college does not have an effect on the likelihood of the college type.\")"
   ]
  },
  {
   "cell_type": "markdown",
   "metadata": {
    "id": "egAsKCedxFnq"
   },
   "source": [
    "**TASK: 4.2  (3 POINTS)**: Based on the p-value, determine whether to reject or fail to reject the null hypothesis. Explain your answer."
   ]
  },
  {
   "cell_type": "markdown",
   "metadata": {
    "id": "7zGZziq1xFnq"
   },
   "source": [
    "\n",
    "> Based on the p-value, we would reject the null hypothesis because our p-value of 2.4020755468119133e-07 is less than our significance level of 0.05, which indicates that there is a statistically significant correlation between the region of the college and the likelihood of the college type."
   ]
  },
  {
   "cell_type": "markdown",
   "metadata": {
    "id": "Z7KycKn1xFnq"
   },
   "source": [
    "#Q5) (3 POINTS) A New Hypothesis\n",
    "\n",
    "\n"
   ]
  },
  {
   "cell_type": "markdown",
   "metadata": {
    "id": "aq50I4tfxFnq"
   },
   "source": [
    "Now create a new hypothesis test for whether the campus setting has an effect on the total student population. (Assume $\\alpha=0.05$)."
   ]
  },
  {
   "cell_type": "markdown",
   "metadata": {
    "id": "hZ2FFcYxxFnq"
   },
   "source": [
    "**TASK 5.1  (3 POINTS)**: Write down your null and alternative hypotheses:"
   ]
  },
  {
   "cell_type": "markdown",
   "metadata": {
    "id": "K1mWab_kxFnq"
   },
   "source": [
    "> - HO: The campus setting does not have an effect on the total student population.\n",
    ">\n",
    "> - HA: The campus setting does have an effect on the total student population."
   ]
  },
  {
   "cell_type": "markdown",
   "metadata": {
    "id": "za_l19WtxFnr"
   },
   "source": [
    "#Q6) (7 POINTS) Hypothesis Testing\n"
   ]
  },
  {
   "cell_type": "markdown",
   "metadata": {
    "id": "zs0sI7xtxFnr"
   },
   "source": [
    "**TASK 6.0**: Split the data into 3 different dataframes based on campus setting."
   ]
  },
  {
   "cell_type": "code",
   "execution_count": 137,
   "metadata": {
    "id": "ZMbBhrotxFnr"
   },
   "outputs": [
    {
     "name": "stdout",
     "output_type": "stream",
     "text": [
      "                                         description  rank  \\\n",
      "0  A leading global research university, MIT attr...     1   \n",
      "2  One of the top public universities in the coun...     2   \n",
      "3  Princeton is a leading private research univer...     4   \n",
      "4  Located in upper Manhattan, Columbia Universit...     5   \n",
      "5  The University of California, Los Angeles is t...     6   \n",
      "\n",
      "                        organizationName state  studentPopulation  \\\n",
      "0  Massachusetts Institute of Technology    MA              12195   \n",
      "2     University of California, Berkeley    CA              45878   \n",
      "3                   Princeton University    NJ               8532   \n",
      "4                    Columbia University    NY              33882   \n",
      "5  University of California, Los Angeles    CA              46947   \n",
      "\n",
      "  campusSetting  medianBaseSalary   longitude   latitude  \\\n",
      "0         Urban          173700.0  -71.093539  42.359006   \n",
      "2         Urban          154500.0 -122.258393  37.869236   \n",
      "3         Urban          167600.0  -74.659119  40.349855   \n",
      "4         Urban          148800.0  -73.961288  40.806515   \n",
      "5         Urban          137200.0 -118.437855  34.073903   \n",
      "\n",
      "                    website  ... yearFounded stateCode  \\\n",
      "0        http://web.mit.edu  ...      1861.0        MA   \n",
      "2   http://www.berkeley.edu  ...      1868.0        CA   \n",
      "3  http://www.princeton.edu  ...      1746.0        NJ   \n",
      "4   http://www.columbia.edu  ...      1754.0        NY   \n",
      "5           http://ucla.edu  ...      1919.0        CA   \n",
      "\n",
      "              collegeType                             carnegieClassification  \\\n",
      "0  Private not-for-profit  Doctoral Universities: Very High Research Acti...   \n",
      "2                  Public  Doctoral Universities: Very High Research Acti...   \n",
      "3  Private not-for-profit  Doctoral Universities: Very High Research Acti...   \n",
      "4  Private not-for-profit  Doctoral Universities: Very High Research Acti...   \n",
      "5                  Public  Doctoral Universities: Very High Research Acti...   \n",
      "\n",
      "  studentFacultyRatio  totalStudentPop undergradPop totalGrantAid  \\\n",
      "0                   3            12195         4582    35299332.0   \n",
      "2                  19            45878        33208    64495611.0   \n",
      "3                   4             8532         5516    44871096.0   \n",
      "4                   6            33882         8689    44615007.0   \n",
      "5                  18            46947        33641    61100980.0   \n",
      "\n",
      "  percentOfStudentsFinAid  percentOfStudentsGrant  \n",
      "0                    75.0                    60.0  \n",
      "2                    63.0                    53.0  \n",
      "3                    62.0                    61.0  \n",
      "4                    58.0                    54.0  \n",
      "5                    73.0                    67.0  \n",
      "\n",
      "[5 rows x 25 columns]\n",
      "                                          description  rank  \\\n",
      "1   Stanford University sits just outside of Palo ...     2   \n",
      "22  The second-oldest member of the University of ...    23   \n",
      "23  A top liberal arts school, Amherst is located ...    24   \n",
      "26  A private research university, Washington Univ...    27   \n",
      "28  This public research university of Charlottesv...    29   \n",
      "\n",
      "                      organizationName state  studentPopulation campusSetting  \\\n",
      "1                  Stanford University    CA              20961      Suburban   \n",
      "22     University of California, Davis    CA              41236      Suburban   \n",
      "23                     Amherst College    MA               1940      Suburban   \n",
      "26  Washington University in St. Louis    MO              17893      Suburban   \n",
      "28              University of Virginia    VA              29237      Suburban   \n",
      "\n",
      "    medianBaseSalary   longitude   latitude                         website  \\\n",
      "1           173500.0 -122.168924  37.431370         http://www.stanford.edu   \n",
      "22          134800.0 -121.747976  38.540631          http://www.ucdavis.edu   \n",
      "23          148700.0  -72.533204  42.370772  http://https://www.amherst.edu   \n",
      "26          136000.0  -90.301291  38.647812            http://www.wustl.edu   \n",
      "28          137300.0  -78.581033  38.078711         http://www.virginia.edu   \n",
      "\n",
      "    ... yearFounded stateCode             collegeType  \\\n",
      "1   ...      1891.0        CA  Private not-for-profit   \n",
      "22  ...      1908.0        CA                  Public   \n",
      "23  ...      1821.0        MA  Private not-for-profit   \n",
      "26  ...      1853.0        MO  Private not-for-profit   \n",
      "28  ...      1819.0        VA                  Public   \n",
      "\n",
      "                               carnegieClassification studentFacultyRatio  \\\n",
      "1   Doctoral Universities: Very High Research Acti...                   4   \n",
      "22  Doctoral Universities: Very High Research Acti...                  20   \n",
      "23      Baccalaureate Colleges: Arts & Sciences Focus                   7   \n",
      "26  Doctoral Universities: Very High Research Acti...                   7   \n",
      "28  Doctoral Universities: Very High Research Acti...                  15   \n",
      "\n",
      "    totalStudentPop undergradPop totalGrantAid percentOfStudentsFinAid  \\\n",
      "1             20961         8464    51328461.0                    70.0   \n",
      "22            41236        33181    72219528.0                    74.0   \n",
      "23             1940         1940    15522081.0                    65.0   \n",
      "26            17893         8909    39741443.0                    54.0   \n",
      "28            29237        19253    34787367.0                    60.0   \n",
      "\n",
      "    percentOfStudentsGrant  \n",
      "1                     55.0  \n",
      "22                    66.0  \n",
      "23                    57.0  \n",
      "26                    46.0  \n",
      "28                    39.0  \n",
      "\n",
      "[5 rows x 25 columns]\n",
      "                                          description  rank  \\\n",
      "6   Located in rural Williamstown, MA, Williams Co...     7   \n",
      "13  The smallest Ivy League school, Dartmouth Coll...    14   \n",
      "43  Colgate University is a leading liberal arts s...    44   \n",
      "47  Located in the town of Brunswick, ME, Bowdoin ...    48   \n",
      "54  Middlebury College is a small private liberal ...    55   \n",
      "\n",
      "      organizationName state  studentPopulation campusSetting  \\\n",
      "6     Williams College    MA               2307         Rural   \n",
      "13   Dartmouth College    NH               7171         Rural   \n",
      "43  Colgate University    NY               3112         Rural   \n",
      "47     Bowdoin College    ME               1973         Rural   \n",
      "54  Middlebury College    VT               4616         Rural   \n",
      "\n",
      "    medianBaseSalary  longitude   latitude                    website  ...  \\\n",
      "6           152600.0 -73.208078  42.712389    http://www.williams.edu  ...   \n",
      "13          161300.0 -72.289499  43.700465   http://www.dartmouth.edu  ...   \n",
      "43          154400.0 -75.536415  42.821191     http://www.colgate.edu  ...   \n",
      "47          145600.0 -69.963975  43.906764     http://www.bowdoin.edu  ...   \n",
      "54          138100.0 -73.167117  44.014999  http://www.middlebury.edu  ...   \n",
      "\n",
      "   yearFounded stateCode             collegeType  \\\n",
      "6       1793.0        MA  Private not-for-profit   \n",
      "13      1769.0        NH  Private not-for-profit   \n",
      "43      1819.0        NY  Private not-for-profit   \n",
      "47      1794.0        ME  Private not-for-profit   \n",
      "54      1800.0        VT  Private not-for-profit   \n",
      "\n",
      "                               carnegieClassification studentFacultyRatio  \\\n",
      "6       Baccalaureate Colleges: Arts & Sciences Focus                   6   \n",
      "13  Doctoral Universities: Very High Research Acti...                   7   \n",
      "43      Baccalaureate Colleges: Arts & Sciences Focus                   9   \n",
      "47      Baccalaureate Colleges: Arts & Sciences Focus                   8   \n",
      "54      Baccalaureate Colleges: Arts & Sciences Focus                   8   \n",
      "\n",
      "    totalStudentPop undergradPop totalGrantAid percentOfStudentsFinAid  \\\n",
      "6              2307         2251    15204855.0                    62.0   \n",
      "13             7171         4885    27997693.0                    58.0   \n",
      "43             3112         3098    16450893.0                    50.0   \n",
      "47             1973         1973    12574545.0                    58.0   \n",
      "54             4616         3833    12382994.0                    43.0   \n",
      "\n",
      "    percentOfStudentsGrant  \n",
      "6                     52.0  \n",
      "13                    45.0  \n",
      "43                    42.0  \n",
      "47                    52.0  \n",
      "54                    41.0  \n",
      "\n",
      "[5 rows x 25 columns]\n"
     ]
    }
   ],
   "source": [
    "import pandas as pd\n",
    "import scipy.stats as stats\n",
    "\n",
    "urban = df[df['campusSetting'] == 'Urban']\n",
    "suburban = df[df['campusSetting'] == 'Suburban']\n",
    "rural = df[df['campusSetting'] == 'Rural']\n",
    "\n",
    "print(urban.head())\n",
    "print(suburban.head())\n",
    "print(rural.head())"
   ]
  },
  {
   "cell_type": "markdown",
   "metadata": {
    "id": "W4E_BV9pxFnr"
   },
   "source": [
    "**TASK 6.1 (2 POINTS)**: Choose an appropriate hypothesis test and display the p-value of applying the that test."
   ]
  },
  {
   "cell_type": "code",
   "execution_count": 138,
   "metadata": {
    "id": "jXkIU-7QxFnr"
   },
   "outputs": [
    {
     "name": "stdout",
     "output_type": "stream",
     "text": [
      "P-value: 1.8281832202730275e-10\n",
      "Reject the null hypothesis. The campus setting does have an effect on the total student population.\n"
     ]
    }
   ],
   "source": [
    "#Applying the ANOVA test\n",
    "anova_result = stats.f_oneway(urban['studentPopulation'], suburban['studentPopulation'], rural['studentPopulation'])\n",
    "\n",
    "print(f'P-value: {anova_result.pvalue}')\n",
    "\n",
    "# Interpretation\n",
    "alpha = 0.05\n",
    "\n",
    "if anova_result.pvalue < alpha:\n",
    "    print(\"Reject the null hypothesis. The campus setting does have an effect on the total student population.\")\n",
    "else:\n",
    "    print(\"Fail to reject the null hypothesis. The campus setting does not have an effect on the total student population.\")"
   ]
  },
  {
   "cell_type": "markdown",
   "metadata": {
    "id": "l2mibvwoxFnr"
   },
   "source": [
    "**TASK 6.2 \\(2 POINTS)**: Create a graph(s) using `matplotlib` to show the relationship between campus setting and total student population.\n"
   ]
  },
  {
   "cell_type": "code",
   "execution_count": 139,
   "metadata": {
    "id": "OZMWcPe5xFnr"
   },
   "outputs": [
    {
     "data": {
      "image/png": "[encoded data removed]",
      "text/plain": [
       "<Figure size 640x480 with 1 Axes>"
      ]
     },
     "metadata": {},
     "output_type": "display_data"
    }
   ],
   "source": [
    "import matplotlib.pyplot as plot\n",
    "import seaborn as sns\n",
    "\n",
    "sns.barplot(data=df, x='campusSetting', y='studentPopulation')\n",
    "plot.title('Campus Setting vs. Total Student Population')\n",
    "plot.xlabel('Campus Setting')\n",
    "plot.ylabel('Total Student Population')\n",
    "plot.show()"
   ]
  },
  {
   "cell_type": "markdown",
   "metadata": {
    "id": "g0Um94_oxFnr"
   },
   "source": [
    "**TASK 6.3 (3 POINTS)**: Based on the p-value, determine whether to reject or fail to reject the null hypothesis. Explain your answer."
   ]
  },
  {
   "cell_type": "markdown",
   "metadata": {
    "id": "GX2XXD6nxFnr"
   },
   "source": [
    "\n",
    "\n",
    "> Based on the p-value, we would reject the null hypothesis because our p-value of 1.8281832202730275e-10 is less than our significance level of 0.05, which indicates that there is a statistically significant correlation between the campus setting and total student population.\n"
   ]
  },
  {
   "cell_type": "markdown",
   "metadata": {
    "id": "BhaiFV4ExFns"
   },
   "source": [
    "#*Q7)* (2 POINTS) Post Hoc Tests"
   ]
  },
  {
   "cell_type": "markdown",
   "metadata": {
    "id": "n0-x_HCFxFns"
   },
   "source": [
    "**TASK 7.1 (2 POINTS)**: Why might we need post-hoc tests in this scenario?"
   ]
  },
  {
   "cell_type": "markdown",
   "metadata": {
    "id": "VIwW7JQrxFns"
   },
   "source": [
    "\n",
    "\n",
    "> We need post-hoc tests whenever we use the ANOVA test because when you use ANOVA, you find the main effect is significant, indicating that the main effect is different between groups. However, you might want to know which group is different than the other groups, which is what post-hoc tests do."
   ]
  },
  {
   "cell_type": "markdown",
   "metadata": {
    "id": "Sro6I621xFns"
   },
   "source": [
    "**BONUS TASK 7.2 (2+1=3 POINTS)**: Apply a post-hoc test of your choice"
   ]
  },
  {
   "cell_type": "code",
   "execution_count": 140,
   "metadata": {
    "id": "8rTml3SFxFns"
   },
   "outputs": [],
   "source": [
    "# Your code here"
   ]
  },
  {
   "cell_type": "markdown",
   "metadata": {
    "id": "nXlCEG3oxFns"
   },
   "source": [
    "\n",
    "> Write your interpretation here"
   ]
  },
  {
   "cell_type": "markdown",
   "metadata": {
    "id": "QOGvXsMMxFns"
   },
   "source": [
    "#*Q8)* (19 POINTS) Hypothesis Test"
   ]
  },
  {
   "cell_type": "markdown",
   "metadata": {
    "id": "XMLrOKZuxFns"
   },
   "source": [
    "Now create a new hypothesis test for whether the total grant aid has an affect on college ranking. (Assume $\\alpha=0.05$)."
   ]
  },
  {
   "cell_type": "markdown",
   "metadata": {
    "id": "MFF_U9AWxFns"
   },
   "source": [
    "**TASK 8.1 (3 POINTS):** Write down the null and alternative hypotheses below."
   ]
  },
  {
   "cell_type": "markdown",
   "metadata": {
    "id": "XUxyOW_ixFns"
   },
   "source": [
    "> - HO: The total grant aid does not have an effect on college ranking.\n",
    ">\n",
    "> - HA: The total grant aid does have an effect on college ranking."
   ]
  },
  {
   "cell_type": "markdown",
   "metadata": {
    "id": "wHWLCbAUxFns"
   },
   "source": [
    "**TASK 8.2 (2 POINTS)**: Create a plot using `matplotlib` that visualizes your hypothesis."
   ]
  },
  {
   "cell_type": "code",
   "execution_count": 141,
   "metadata": {
    "id": "xBmWdOcyxFns"
   },
   "outputs": [
    {
     "data": {
      "image/png": "[encoded data removed]",
      "text/plain": [
       "<Figure size 640x480 with 1 Axes>"
      ]
     },
     "metadata": {},
     "output_type": "display_data"
    }
   ],
   "source": [
    "import matplotlib.pyplot as plot\n",
    "import seaborn as sns\n",
    "\n",
    "sns.barplot(data=df, x='totalGrantAid', y='rank')\n",
    "plot.title('Total Grant Aid vs. College Ranking')\n",
    "plot.xlabel('Total Grant Aid')\n",
    "plot.ylabel('College Ranking')\n",
    "plot.show()"
   ]
  },
  {
   "cell_type": "markdown",
   "metadata": {
    "id": "StNwKUVJxFnt"
   },
   "source": [
    "**TASK 8.3 (3 POINTS):** Apply an appropriate hypothesis test and find the p-value of the it."
   ]
  },
  {
   "cell_type": "code",
   "execution_count": 142,
   "metadata": {
    "id": "tpdna42ixFnt"
   },
   "outputs": [
    {
     "name": "stdout",
     "output_type": "stream",
     "text": [
      "P-value: 2.723173468859448e-27\n",
      "Reject the null hypothesis. The total grant aid does have an effect on college ranking.\n"
     ]
    }
   ],
   "source": [
    "# Applying the Pearson Correlation Test\n",
    "\n",
    "import pandas as pd\n",
    "import scipy.stats as stats\n",
    "\n",
    "# Dropping rows with missing values\n",
    "df_clean = df.dropna(subset=['totalGrantAid', 'rank'])\n",
    "\n",
    "# Applying the Pearson Correlation Test\n",
    "pearson_result = stats.pearsonr(df_clean['totalGrantAid'], df_clean['rank'])\n",
    "\n",
    "print(f\"P-value: {pearson_result.pvalue}\")\n",
    "\n",
    "# Interpretation\n",
    "alpha = 0.05\n",
    "\n",
    "if pearson_result.pvalue < alpha:\n",
    "    print(\"Reject the null hypothesis. The total grant aid does have an effect on college ranking.\")\n",
    "else:\n",
    "    print(\"Fail to reject the null hypothesis. The total grant aid does not have an effect on college ranking.\")"
   ]
  },
  {
   "cell_type": "markdown",
   "metadata": {
    "id": "rFYuzjUWxFnt"
   },
   "source": [
    "**TASK 8.4 (3 POINTS)**: Based on the p-value, determine whether to reject or fail to reject the null hypothesis. Explain your answer."
   ]
  },
  {
   "cell_type": "markdown",
   "metadata": {
    "id": "vG-EBQjrxFnt"
   },
   "source": [
    "\n",
    "\n",
    "> Based on the p-value, we would reject the null hypothesis because our p-value of 2.723173468859448e-27 is less than our significance level of 0.05, which indicates that there is a statistically significant correlation between total grant aid and college ranking."
   ]
  },
  {
   "cell_type": "markdown",
   "metadata": {
    "id": "kyAgGFmExFnt"
   },
   "source": [
    "**TASK 8.5 (3 POINTS)**: Based on your previous answer, can you conclude that increasing grant aid will change a college's ranking? What is experimental procedure required to reach this conclusion?"
   ]
  },
  {
   "cell_type": "markdown",
   "metadata": {
    "id": "6VwlIpPfxFnt"
   },
   "source": [
    "\n",
    "\n",
    "> Based on the previous answer, we can conclude that increasing grant aid is statistically highly correlated with college ranking. However, correlation does not imply causation, therefore we cannot conclude that increasing grant aid will change a college's ranking. To reach that conclusion, we will need to perform a controlled experiment."
   ]
  },
  {
   "cell_type": "markdown",
   "metadata": {
    "id": "oLEPhp1rxFnt"
   },
   "source": [
    "**TASK 8.6 (3 POINTS)**: What kind of t-test (right-tail or left-tail) would you use to verify the following hypothesis?\n",
    "\n",
    "*H0:* There is no difference in student to faculty ratio between private and public colleges\n",
    "\n",
    "*HA:* Private colleges have a smaller student to faculty ratio\n",
    "\n",
    "Also perform the test and print your p value.\n"
   ]
  },
  {
   "cell_type": "markdown",
   "metadata": {
    "id": "OtU-m-y_xFnt"
   },
   "source": [
    "> I would use a left-tail test to verify the alternative hypothesis because it states that private colleges have a smaller student to faculty ratio, which implies that we are testing if the mean student to faculty ratio of private colleges is less than that of public colleges. This also means the rejection region is located to the extreme left of the distribution.\n"
   ]
  },
  {
   "cell_type": "code",
   "execution_count": 143,
   "metadata": {
    "id": "GeiVGY2DxFnt"
   },
   "outputs": [
    {
     "name": "stdout",
     "output_type": "stream",
     "text": [
      "P-value: 5.617896962995605e-73\n",
      "Reject the null hypothesis. Private colleges have a smaller student to faculty ratio.\n"
     ]
    }
   ],
   "source": [
    "private_colleges = df[df['collegeType'] == 'Private not-for-profit']['studentFacultyRatio']\n",
    "public_colleges = df[df['collegeType'] == 'Public']['studentFacultyRatio']\n",
    "\n",
    "# Perform the left-tailed t-test\n",
    "left_tail_t_test = stats.ttest_ind(private_colleges, public_colleges, alternative='less')\n",
    "\n",
    "# Print the results\n",
    "print(f\"P-value: {left_tail_t_test.pvalue}\")\n",
    "\n",
    "# Interpretation\n",
    "alpha = 0.05\n",
    "\n",
    "if left_tail_t_test.pvalue < alpha:\n",
    "    print(\"Reject the null hypothesis. Private colleges have a smaller student to faculty ratio.\")\n",
    "else:\n",
    "    print(\"Fail to reject the null hypothesis. There is no significant difference in student to faculty ratio between private and public colleges.\")"
   ]
  },
  {
   "cell_type": "markdown",
   "metadata": {
    "id": "E4B_dxvhxFnt"
   },
   "source": [
    "**TASK 8.7 (2 POINTS)**: Based on the p-value, determine whether to reject or fail to reject the null hypothesis. Explain your answer."
   ]
  },
  {
   "cell_type": "markdown",
   "metadata": {
    "id": "M-r9f5MtxFnt"
   },
   "source": [
    "> Based on the p-value, we would reject the null hypothesis because our p-value of 5.617896962995605e-73 is less than our significance level of 0.05, which indicates that there is a statistically significant correlation between private colleges and a smaller student-to-faculty ratio."
   ]
  },
  {
   "cell_type": "markdown",
   "metadata": {
    "id": "9wEskV8cCmED"
   },
   "source": [
    "# THE END!"
   ]
  }
 ],
 "metadata": {
  "colab": {
   "provenance": [
    {
     "file_id": "1H9gH1I0FWR7fGhiJT1tt3NqcdnGqTSGl",
     "timestamp": 1709100369675
    }
   ]
  },
  "kernelspec": {
   "display_name": "Python 3",
   "language": "python",
   "name": "python3"
  },
  "language_info": {
   "codemirror_mode": {
    "name": "ipython",
    "version": 3
   },
   "file_extension": ".py",
   "mimetype": "text/x-python",
   "name": "python",
   "nbconvert_exporter": "python",
   "pygments_lexer": "ipython3",
   "version": "3.10.12"
  }
 },
 "nbformat": 4,
 "nbformat_minor": 0
}
